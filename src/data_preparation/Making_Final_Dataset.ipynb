{
 "cells": [
  {
   "cell_type": "markdown",
   "metadata": {},
   "source": [
    "<h2>Making Final Dataset"
   ]
  },
  {
   "cell_type": "markdown",
   "metadata": {},
   "source": [
    "<h4>Import Statements"
   ]
  },
  {
   "cell_type": "code",
   "execution_count": 246,
   "metadata": {},
   "outputs": [],
   "source": [
    "import pandas as pd\n",
    "import json\n",
    "import numpy as np\n",
    "import ast\n",
    "from tqdm import tqdm_notebook"
   ]
  },
  {
   "cell_type": "markdown",
   "metadata": {},
   "source": [
    "<h4>Reading data with strings into Pandas Dataframe df"
   ]
  },
  {
   "cell_type": "code",
   "execution_count": 247,
   "metadata": {
    "scrolled": true
   },
   "outputs": [
    {
     "data": {
      "text/plain": [
       "(562, 59)"
      ]
     },
     "execution_count": 247,
     "metadata": {},
     "output_type": "execute_result"
    }
   ],
   "source": [
    "df=pd.read_csv('/home/rim/INF-Project/final_lasvegas_dataset_v3.csv')\n",
    "df.shape"
   ]
  },
  {
   "cell_type": "code",
   "execution_count": 248,
   "metadata": {},
   "outputs": [
    {
     "data": {
      "text/plain": [
       "array(['zip_code', 'violations', 'current_demerits', 'inspection_demerits',\n",
       "       'inspection_grade', 'current_score', 'inspection_score', 'rating',\n",
       "       'review_count', 'accepts_insurance', 'ages_allowed', 'alcohol',\n",
       "       'ambience', 'byob', 'byob_corkage', 'best_nights', 'bike_parking',\n",
       "       'business_accepts_bitcoin', 'business_accepts_creditcards',\n",
       "       'business_parking', 'byappointmentonly', 'caters', 'coat_check',\n",
       "       'corkage', 'dietary_restrictions', 'dogs_allowed', 'drive_thru',\n",
       "       'good_for_dancing', 'good_for_kids', 'good_for_meal',\n",
       "       'hair_specializes_in', 'happy_hour', 'has_tv', 'music',\n",
       "       'noise_level', 'open_24_hours', 'outdoor_seating',\n",
       "       'restaurants_attire', 'restaurants_counter_service',\n",
       "       'restaurants_delivery', 'restaurants_good_for_groups',\n",
       "       'restaurants_price_range2', 'restaurants_reservations',\n",
       "       'restaurants_table_service', 'restaurants_takeout', 'smoking',\n",
       "       'wheelchair_accessible', 'wifi', 'accepts_apple_pay',\n",
       "       'accepts_google_pay', 'gender_neutral_restrooms', 'good_for',\n",
       "       'good_for_working', 'has_gluten_free_options', 'has_pool_table',\n",
       "       'liked_by_vegans', 'liked_by_vegetarians',\n",
       "       'offers_military_discount', 'waiter_service'], dtype=object)"
      ]
     },
     "execution_count": 248,
     "metadata": {},
     "output_type": "execute_result"
    }
   ],
   "source": [
    "df.columns.values"
   ]
  },
  {
   "cell_type": "code",
   "execution_count": 249,
   "metadata": {},
   "outputs": [],
   "source": [
    "new_df=df[['zip_code', 'violations', 'current_demerits', 'inspection_demerits','inspection_grade',\n",
    "       'current_score', 'inspection_score', 'rating',\n",
    "       'review_count', 'accepts_insurance', 'ages_allowed', 'alcohol',\n",
    "       'ambience', 'byob', 'byob_corkage', 'best_nights', 'bike_parking',\n",
    "       'business_accepts_bitcoin', 'business_accepts_creditcards',\n",
    "       'business_parking', 'byappointmentonly', 'caters', 'coat_check',\n",
    "       'corkage', 'dietary_restrictions', 'dogs_allowed', 'drive_thru',\n",
    "       'good_for_dancing', 'good_for_kids', 'good_for_meal',\n",
    "       'hair_specializes_in', 'happy_hour', 'has_tv', 'music',\n",
    "       'noise_level', 'open_24_hours', 'outdoor_seating',\n",
    "       'restaurants_attire', 'restaurants_counter_service',\n",
    "       'restaurants_delivery', 'restaurants_good_for_groups',\n",
    "       'restaurants_price_range2', 'restaurants_reservations',\n",
    "       'restaurants_table_service', 'restaurants_takeout', 'smoking',\n",
    "       'wheelchair_accessible', 'wifi', 'accepts_apple_pay',\n",
    "       'accepts_google_pay', 'gender_neutral_restrooms', 'good_for',\n",
    "       'good_for_working', 'has_gluten_free_options', 'has_pool_table',\n",
    "       'liked_by_vegans', 'liked_by_vegetarians',\n",
    "       'offers_military_discount', 'waiter_service']]"
   ]
  },
  {
   "cell_type": "code",
   "execution_count": 250,
   "metadata": {},
   "outputs": [],
   "source": [
    "COL_ACCEPTS_APPLE_PAY = \"accepts_apple_pay\"\n",
    "COL_ACCEPTS_GOOGLE_PAY = \"accepts_google_pay\"\n",
    "COL_GENDER_NEUTRAL_RESTROOMS = \"gender_neutral_restrooms\"\n",
    "COL_GOOD_FOR = \"good_for\"\n",
    "COL_GOOD_FOR_WORKING = \"good_for_working\"\n",
    "COL_HAS_GLUTEN_FREE_OPTIONS = \"has_gluten_free_options\"\n",
    "COL_HAS_POOL_TABLE = \"has_pool_table\"\n",
    "COL_LIKED_BY_VEGANS = \"liked_by_vegans\"\n",
    "COL_LIKED_BY_VEGETARIANS = \"liked_by_vegetarians\"\n",
    "COL_OFFERS_MILITARY_DISCOUNT = \"offers_military_discount\"\n",
    "COL_WAITER_SERVICE = \"waiter_service\"\n"
   ]
  },
  {
   "cell_type": "code",
   "execution_count": 251,
   "metadata": {},
   "outputs": [
    {
     "data": {
      "text/plain": [
       "array([-1,  1,  0])"
      ]
     },
     "execution_count": 251,
     "metadata": {},
     "output_type": "execute_result"
    }
   ],
   "source": [
    "new_df.accepts_apple_pay.unique()\n",
    "#Mapping : No=0, Yes=1\n",
    "new_df.accepts_apple_pay.replace('No',0,inplace=True)\n",
    "new_df.accepts_apple_pay.replace('Yes',1,inplace=True)\n",
    "new_df.accepts_apple_pay.unique()"
   ]
  },
  {
   "cell_type": "code",
   "execution_count": 252,
   "metadata": {},
   "outputs": [
    {
     "data": {
      "text/plain": [
       "array([-1,  1,  0])"
      ]
     },
     "execution_count": 252,
     "metadata": {},
     "output_type": "execute_result"
    }
   ],
   "source": [
    "new_df.accepts_google_pay.unique()\n",
    "#Mapping : No=0, Yes=1\n",
    "new_df.accepts_google_pay.replace('No',0,inplace=True)\n",
    "new_df.accepts_google_pay.replace('Yes',1,inplace=True)\n",
    "new_df.accepts_google_pay.unique()"
   ]
  },
  {
   "cell_type": "code",
   "execution_count": 254,
   "metadata": {},
   "outputs": [
    {
     "data": {
      "text/plain": [
       "array([-1,  1])"
      ]
     },
     "execution_count": 254,
     "metadata": {},
     "output_type": "execute_result"
    }
   ],
   "source": [
    "new_df.gender_neutral_restrooms.unique()\n",
    "#Mapping : Yes=1\n",
    "new_df.gender_neutral_restrooms.replace('Yes',1,inplace=True)\n",
    "new_df.gender_neutral_restrooms.replace('-1',-1,inplace=True)\n",
    "new_df.gender_neutral_restrooms.unique()"
   ]
  },
  {
   "cell_type": "code",
   "execution_count": 255,
   "metadata": {},
   "outputs": [
    {
     "data": {
      "text/plain": [
       "array(['-1', 'Breakfast, Brunch, Lunch', 'Breakfast, Lunch',\n",
       "       'Lunch, Dinner', 'Breakfast, Brunch', 'Lunch',\n",
       "       'Brunch, Lunch, Dinner', 'Lunch, Dinner, Dessert',\n",
       "       'Lunch, Dinner, Late Night', 'Breakfast, Lunch, Late Night',\n",
       "       'Breakfast, Lunch, Dinner, Late Night',\n",
       "       'Breakfast, Brunch, Lunch, Dinner, Late Night',\n",
       "       'Dinner, Late Night', 'Breakfast', 'Breakfast, Dinner, Late Night',\n",
       "       'Brunch, Lunch, Dinner, Dessert', 'Dinner', 'Lunch, Late Night',\n",
       "       'Breakfast, Lunch, Dessert', 'Brunch', 'Brunch, Lunch', 'Dessert',\n",
       "       'Breakfast, Dessert', 'Breakfast, Brunch, Lunch, Dinner',\n",
       "       'Lunch, Dinner, Late Night, Dessert',\n",
       "       'Breakfast, Brunch, Lunch, Dinner, Dessert',\n",
       "       'Breakfast, Lunch, Dinner', 'Breakfast, Brunch, Lunch, Dessert',\n",
       "       'Breakfast, Lunch, Dinner, Dessert', 'Lunch, Dessert',\n",
       "       'Breakfast, Brunch, Lunch, Late Night, Dessert'], dtype=object)"
      ]
     },
     "execution_count": 255,
     "metadata": {},
     "output_type": "execute_result"
    }
   ],
   "source": [
    "unique_strings=new_df.good_for.unique()\n",
    "unique_strings"
   ]
  },
  {
   "cell_type": "code",
   "execution_count": 256,
   "metadata": {},
   "outputs": [],
   "source": [
    "def change_good_for(String_value):\n",
    "    final_val=0\n",
    "    hmap={'Breakfast':1, 'Brunch':1, 'Lunch':1, 'Dinner':1, 'Dessert':1, 'Late Night':1}\n",
    "    arr_values=String_value.split(',')\n",
    "    for elem in arr_values:\n",
    "        final_val+=hmap[elem.lstrip()]\n",
    "    return final_val"
   ]
  },
  {
   "cell_type": "code",
   "execution_count": 259,
   "metadata": {},
   "outputs": [
    {
     "data": {
      "text/plain": [
       "{'Breakfast': 1,\n",
       " 'Breakfast, Brunch': 2,\n",
       " 'Breakfast, Brunch, Lunch': 3,\n",
       " 'Breakfast, Brunch, Lunch, Dessert': 4,\n",
       " 'Breakfast, Brunch, Lunch, Dinner': 4,\n",
       " 'Breakfast, Brunch, Lunch, Dinner, Dessert': 5,\n",
       " 'Breakfast, Brunch, Lunch, Dinner, Late Night': 5,\n",
       " 'Breakfast, Brunch, Lunch, Late Night, Dessert': 5,\n",
       " 'Breakfast, Dessert': 2,\n",
       " 'Breakfast, Dinner, Late Night': 3,\n",
       " 'Breakfast, Lunch': 2,\n",
       " 'Breakfast, Lunch, Dessert': 3,\n",
       " 'Breakfast, Lunch, Dinner': 3,\n",
       " 'Breakfast, Lunch, Dinner, Dessert': 4,\n",
       " 'Breakfast, Lunch, Dinner, Late Night': 4,\n",
       " 'Breakfast, Lunch, Late Night': 3,\n",
       " 'Brunch': 1,\n",
       " 'Brunch, Lunch': 2,\n",
       " 'Brunch, Lunch, Dinner': 3,\n",
       " 'Brunch, Lunch, Dinner, Dessert': 4,\n",
       " 'Dessert': 1,\n",
       " 'Dinner': 1,\n",
       " 'Dinner, Late Night': 2,\n",
       " 'Lunch': 1,\n",
       " 'Lunch, Dessert': 2,\n",
       " 'Lunch, Dinner': 2,\n",
       " 'Lunch, Dinner, Dessert': 3,\n",
       " 'Lunch, Dinner, Late Night': 3,\n",
       " 'Lunch, Dinner, Late Night, Dessert': 4,\n",
       " 'Lunch, Late Night': 2}"
      ]
     },
     "execution_count": 259,
     "metadata": {},
     "output_type": "execute_result"
    }
   ],
   "source": [
    "final_hmap={}\n",
    "for each_string in unique_strings:\n",
    "    if each_string!='-1':\n",
    "        final_hmap[each_string]=change_good_for(each_string)\n",
    "final_hmap"
   ]
  },
  {
   "cell_type": "code",
   "execution_count": 260,
   "metadata": {},
   "outputs": [],
   "source": [
    "for key in final_hmap:\n",
    "    new_df.good_for.replace(key,final_hmap[key],inplace=True)"
   ]
  },
  {
   "cell_type": "code",
   "execution_count": 261,
   "metadata": {},
   "outputs": [
    {
     "data": {
      "text/plain": [
       "array(['-1', 3, 2, 1, 4, 5], dtype=object)"
      ]
     },
     "execution_count": 261,
     "metadata": {},
     "output_type": "execute_result"
    }
   ],
   "source": [
    "new_df.good_for.unique()"
   ]
  },
  {
   "cell_type": "code",
   "execution_count": 262,
   "metadata": {},
   "outputs": [
    {
     "data": {
      "text/plain": [
       "array([-1,  1])"
      ]
     },
     "execution_count": 262,
     "metadata": {},
     "output_type": "execute_result"
    }
   ],
   "source": [
    "new_df.good_for_working.unique()\n",
    "#Mapping : Yes=1\n",
    "new_df.good_for_working.replace('Yes',1,inplace=True)\n",
    "new_df.good_for_working.unique()"
   ]
  },
  {
   "cell_type": "code",
   "execution_count": 263,
   "metadata": {},
   "outputs": [
    {
     "data": {
      "text/plain": [
       "array(['-1', 1], dtype=object)"
      ]
     },
     "execution_count": 263,
     "metadata": {},
     "output_type": "execute_result"
    }
   ],
   "source": [
    "new_df.has_gluten_free_options.unique()\n",
    "#Mapping : Yes=1\n",
    "new_df.has_gluten_free_options.replace('Yes',1,inplace=True)\n",
    "new_df.has_gluten_free_options.unique()"
   ]
  },
  {
   "cell_type": "code",
   "execution_count": 264,
   "metadata": {},
   "outputs": [
    {
     "data": {
      "text/plain": [
       "array(['-1', 1, 0], dtype=object)"
      ]
     },
     "execution_count": 264,
     "metadata": {},
     "output_type": "execute_result"
    }
   ],
   "source": [
    "new_df.has_pool_table.unique()\n",
    "#Mapping : Yes=1 No=0\n",
    "new_df.has_pool_table.replace('Yes',1,inplace=True)\n",
    "new_df.has_pool_table.replace('No',0,inplace=True)\n",
    "new_df.has_pool_table.unique()"
   ]
  },
  {
   "cell_type": "code",
   "execution_count": 265,
   "metadata": {},
   "outputs": [
    {
     "data": {
      "text/plain": [
       "array(['-1', 1], dtype=object)"
      ]
     },
     "execution_count": 265,
     "metadata": {},
     "output_type": "execute_result"
    }
   ],
   "source": [
    "new_df.liked_by_vegans.unique()\n",
    "#Mapping : Yes=1\n",
    "new_df.liked_by_vegans.replace('Yes',1,inplace=True)\n",
    "new_df.liked_by_vegans.unique()"
   ]
  },
  {
   "cell_type": "code",
   "execution_count": 266,
   "metadata": {},
   "outputs": [
    {
     "data": {
      "text/plain": [
       "array(['-1', 1], dtype=object)"
      ]
     },
     "execution_count": 266,
     "metadata": {},
     "output_type": "execute_result"
    }
   ],
   "source": [
    "new_df.liked_by_vegetarians.unique()\n",
    "#Mapping : Yes=1\n",
    "new_df.liked_by_vegetarians.replace('Yes',1,inplace=True)\n",
    "new_df.liked_by_vegetarians.unique()"
   ]
  },
  {
   "cell_type": "code",
   "execution_count": 267,
   "metadata": {},
   "outputs": [
    {
     "data": {
      "text/plain": [
       "array(['-1', 1], dtype=object)"
      ]
     },
     "execution_count": 267,
     "metadata": {},
     "output_type": "execute_result"
    }
   ],
   "source": [
    "new_df.offers_military_discount.unique()#Mapping : Yes=1\n",
    "new_df.offers_military_discount.replace('Yes',1,inplace=True)\n",
    "new_df.offers_military_discount.unique()"
   ]
  },
  {
   "cell_type": "code",
   "execution_count": 268,
   "metadata": {},
   "outputs": [
    {
     "data": {
      "text/plain": [
       "array(['-1', 0, 1], dtype=object)"
      ]
     },
     "execution_count": 268,
     "metadata": {},
     "output_type": "execute_result"
    }
   ],
   "source": [
    "new_df.waiter_service.unique()\n",
    "#Mapping : Yes=1 No=0\n",
    "new_df.waiter_service.replace('Yes',1,inplace=True)\n",
    "new_df.waiter_service.replace('No',0,inplace=True)\n",
    "new_df.waiter_service.unique()"
   ]
  },
  {
   "cell_type": "code",
   "execution_count": 270,
   "metadata": {},
   "outputs": [],
   "source": [
    "new_df.replace('Null',-1,inplace=True)\n",
    "new_df.replace('-1',-1,inplace=True)"
   ]
  },
  {
   "cell_type": "code",
   "execution_count": 271,
   "metadata": {},
   "outputs": [
    {
     "data": {
      "text/plain": [
       "array([ 0,  2,  1, -1])"
      ]
     },
     "execution_count": 271,
     "metadata": {},
     "output_type": "execute_result"
    }
   ],
   "source": [
    "new_df.alcohol.unique()\n",
    "#Mapping : none->0, beer_and_wine->1,full_bar->2\n",
    "new_df.alcohol.replace('No',0,inplace=True)\n",
    "new_df.alcohol.replace('Beer & Wine Only',1,inplace=True)\n",
    "new_df.alcohol.replace('Full Bar',2,inplace=True)\n",
    "new_df.alcohol.replace('0',0,inplace=True)\n",
    "new_df.alcohol.replace('1',1,inplace=True)\n",
    "new_df.alcohol.replace('2',2,inplace=True)\n",
    "new_df.alcohol.unique()"
   ]
  },
  {
   "cell_type": "code",
   "execution_count": 272,
   "metadata": {},
   "outputs": [
    {
     "data": {
      "text/plain": [
       "array([ 1,  0,  2, -1,  3])"
      ]
     },
     "execution_count": 272,
     "metadata": {},
     "output_type": "execute_result"
    }
   ],
   "source": [
    "new_df.ambience.unique()\n",
    "new_df.ambience.replace('0',0,inplace=True)\n",
    "new_df.ambience.replace('1',1,inplace=True)\n",
    "new_df.ambience.replace('2',2,inplace=True)\n",
    "new_df.ambience.replace('3',3,inplace=True)\n",
    "new_df.ambience.replace('Null',-1,inplace=True)\n",
    "new_df.ambience.unique()"
   ]
  },
  {
   "cell_type": "code",
   "execution_count": 273,
   "metadata": {},
   "outputs": [
    {
     "data": {
      "text/plain": [
       "array([ 1,  0,  2, -1,  3])"
      ]
     },
     "execution_count": 273,
     "metadata": {},
     "output_type": "execute_result"
    }
   ],
   "source": [
    "new_df.ambience.replace('Casual',1,inplace=True)\n",
    "new_df.ambience.replace('Casual, Trendy, Classy',3,inplace=True)\n",
    "new_df.ambience.replace('Divey, Casual',2,inplace=True)\n",
    "new_df.ambience.replace('Romantic',1,inplace=True)\n",
    "new_df.ambience.replace('Romantic, Classy',2,inplace=True)\n",
    "new_df.ambience.unique()"
   ]
  },
  {
   "cell_type": "code",
   "execution_count": 274,
   "metadata": {},
   "outputs": [
    {
     "data": {
      "text/plain": [
       "array([-1,  3,  1,  0,  2])"
      ]
     },
     "execution_count": 274,
     "metadata": {},
     "output_type": "execute_result"
    }
   ],
   "source": [
    "new_df.best_nights.unique()\n",
    "new_df.best_nights.replace('Null',-1,inplace=True)\n",
    "new_df.best_nights.replace('0',0,inplace=True)\n",
    "new_df.best_nights.replace('1',1,inplace=True)\n",
    "new_df.best_nights.replace('2',2,inplace=True)\n",
    "new_df.best_nights.replace('3',3,inplace=True)\n",
    "new_df.best_nights.replace('Sun',1,inplace=True)\n",
    "new_df.best_nights.replace('Thu, Fri, Sat',3,inplace=True)\n",
    "new_df.best_nights.replace('Fri, Sat, Sun',3,inplace=True)\n",
    "new_df.best_nights.replace('Mon, Fri, Sat',3,inplace=True)\n",
    "new_df.best_nights.replace('Mon, Thu, Sun',3,inplace=True)\n",
    "new_df.best_nights.unique()"
   ]
  },
  {
   "cell_type": "code",
   "execution_count": 275,
   "metadata": {},
   "outputs": [
    {
     "data": {
      "text/plain": [
       "array([-1,  1,  0])"
      ]
     },
     "execution_count": 275,
     "metadata": {},
     "output_type": "execute_result"
    }
   ],
   "source": [
    "new_df.bike_parking.unique()\n",
    "new_df.bike_parking.replace('Null',-1,inplace=True)\n",
    "new_df.bike_parking.replace('1',1,inplace=True)\n",
    "new_df.bike_parking.replace('0',0,inplace=True)\n",
    "new_df.bike_parking.replace('Yes',1,inplace=True)\n",
    "new_df.bike_parking.replace('No',0,inplace=True)\n",
    "new_df.bike_parking.unique()"
   ]
  },
  {
   "cell_type": "code",
   "execution_count": 276,
   "metadata": {},
   "outputs": [
    {
     "data": {
      "text/plain": [
       "array([-1,  0,  1])"
      ]
     },
     "execution_count": 276,
     "metadata": {},
     "output_type": "execute_result"
    }
   ],
   "source": [
    "new_df.business_accepts_bitcoin.unique()\n",
    "new_df.business_accepts_bitcoin.replace('Null',-1,inplace=True)\n",
    "new_df.business_accepts_bitcoin.replace('0',0,inplace=True)\n",
    "new_df.business_accepts_bitcoin.replace('1',1,inplace=True)\n",
    "new_df.business_accepts_bitcoin.replace('No',0,inplace=True)\n",
    "new_df.business_accepts_bitcoin.replace('Yes',1,inplace=True)\n",
    "new_df.business_accepts_bitcoin.unique()"
   ]
  },
  {
   "cell_type": "code",
   "execution_count": 277,
   "metadata": {},
   "outputs": [
    {
     "data": {
      "text/plain": [
       "array([ 1, -1,  0])"
      ]
     },
     "execution_count": 277,
     "metadata": {},
     "output_type": "execute_result"
    }
   ],
   "source": [
    "new_df.business_accepts_creditcards.unique()\n",
    "new_df.business_accepts_creditcards.replace('1',1,inplace=True)\n",
    "new_df.business_accepts_creditcards.replace('0',0,inplace=True)\n",
    "new_df.business_accepts_creditcards.replace('Null',-1,inplace=True)\n",
    "new_df.business_accepts_creditcards.replace('Yes',1,inplace=True)\n",
    "new_df.business_accepts_creditcards.unique()"
   ]
  },
  {
   "cell_type": "code",
   "execution_count": 278,
   "metadata": {},
   "outputs": [
    {
     "data": {
      "text/plain": [
       "array([ 1,  0, -1,  2,  3,  5,  4])"
      ]
     },
     "execution_count": 278,
     "metadata": {},
     "output_type": "execute_result"
    }
   ],
   "source": [
    "new_df.business_parking.unique()\n",
    "new_df.business_parking.replace('0',0,inplace=True)\n",
    "new_df.business_parking.replace('1',1,inplace=True)\n",
    "new_df.business_parking.replace('2',2,inplace=True)\n",
    "new_df.business_parking.replace('3',3,inplace=True)\n",
    "new_df.business_parking.replace('4',4,inplace=True)\n",
    "new_df.business_parking.replace('5',5,inplace=True)\n",
    "new_df.business_parking.replace('Null',-1,inplace=True)\n",
    "new_df.business_parking.replace('Private Lot',1,inplace=True)\n",
    "new_df.business_parking.replace('Valet, Street, Private Lot',3,inplace=True)\n",
    "new_df.business_parking.unique()"
   ]
  },
  {
   "cell_type": "code",
   "execution_count": 279,
   "metadata": {},
   "outputs": [
    {
     "data": {
      "text/plain": [
       "array([-1,  0])"
      ]
     },
     "execution_count": 279,
     "metadata": {},
     "output_type": "execute_result"
    }
   ],
   "source": [
    "new_df.byappointmentonly.unique()\n",
    "new_df.byappointmentonly.replace('Null',-1,inplace=True)\n",
    "new_df.byappointmentonly.replace('0',0,inplace=True)\n",
    "new_df.byappointmentonly.replace('No',0,inplace=True)\n",
    "new_df.byappointmentonly.unique()"
   ]
  },
  {
   "cell_type": "code",
   "execution_count": 280,
   "metadata": {},
   "outputs": [],
   "source": [
    "new_df.replace('Null',-1,inplace=True)"
   ]
  },
  {
   "cell_type": "code",
   "execution_count": 281,
   "metadata": {},
   "outputs": [
    {
     "data": {
      "text/plain": [
       "array([ 1,  0, -1])"
      ]
     },
     "execution_count": 281,
     "metadata": {},
     "output_type": "execute_result"
    }
   ],
   "source": [
    "new_df.caters.unique()\n",
    "new_df.caters.replace('1',1,inplace=True)\n",
    "new_df.caters.replace('0',0,inplace=True)\n",
    "new_df.caters.replace('Yes',1,inplace=True)\n",
    "new_df.caters.replace('No',0,inplace=True)\n",
    "new_df.caters.unique()"
   ]
  },
  {
   "cell_type": "code",
   "execution_count": 282,
   "metadata": {},
   "outputs": [
    {
     "data": {
      "text/plain": [
       "array([-1,  0,  1])"
      ]
     },
     "execution_count": 282,
     "metadata": {},
     "output_type": "execute_result"
    }
   ],
   "source": [
    "new_df.coat_check.unique()\n",
    "new_df.coat_check.replace('0',0,inplace=True)\n",
    "new_df.coat_check.replace('1',1,inplace=True)\n",
    "new_df.coat_check.replace('No',0,inplace=True)\n",
    "new_df.coat_check.unique()"
   ]
  },
  {
   "cell_type": "code",
   "execution_count": 283,
   "metadata": {},
   "outputs": [
    {
     "data": {
      "text/plain": [
       "array([-1,  0,  1])"
      ]
     },
     "execution_count": 283,
     "metadata": {},
     "output_type": "execute_result"
    }
   ],
   "source": [
    "new_df.dogs_allowed.unique()\n",
    "new_df.dogs_allowed.replace('0',0,inplace=True)\n",
    "new_df.dogs_allowed.replace('1',1,inplace=True)\n",
    "new_df.dogs_allowed.replace('Yes',1,inplace=True)\n",
    "new_df.dogs_allowed.replace('No',0,inplace=True)\n",
    "new_df.dogs_allowed.unique()"
   ]
  },
  {
   "cell_type": "code",
   "execution_count": 284,
   "metadata": {},
   "outputs": [
    {
     "data": {
      "text/plain": [
       "array([-1,  0,  1])"
      ]
     },
     "execution_count": 284,
     "metadata": {},
     "output_type": "execute_result"
    }
   ],
   "source": [
    "new_df.drive_thru.unique()\n",
    "new_df.drive_thru.replace('0',0,inplace=True)\n",
    "new_df.drive_thru.replace('1',1,inplace=True)\n",
    "new_df.drive_thru.replace('No',0,inplace=True)\n",
    "new_df.drive_thru.replace('Yes',1,inplace=True)\n",
    "new_df.drive_thru.unique()"
   ]
  },
  {
   "cell_type": "code",
   "execution_count": 285,
   "metadata": {},
   "outputs": [
    {
     "data": {
      "text/plain": [
       "array([-1,  0,  1])"
      ]
     },
     "execution_count": 285,
     "metadata": {},
     "output_type": "execute_result"
    }
   ],
   "source": [
    "new_df.good_for_dancing.unique()\n",
    "new_df.good_for_dancing.replace('0',0,inplace=True)\n",
    "new_df.good_for_dancing.replace('1',1,inplace=True)\n",
    "new_df.good_for_dancing.replace('No',0,inplace=True)\n",
    "new_df.good_for_dancing.replace('Yes',1,inplace=True)\n",
    "new_df.good_for_dancing.unique()"
   ]
  },
  {
   "cell_type": "code",
   "execution_count": 286,
   "metadata": {},
   "outputs": [
    {
     "data": {
      "text/plain": [
       "array([ 1, -1,  0])"
      ]
     },
     "execution_count": 286,
     "metadata": {},
     "output_type": "execute_result"
    }
   ],
   "source": [
    "new_df.good_for_kids.unique()\n",
    "new_df.good_for_kids.replace('0',0,inplace=True)\n",
    "new_df.good_for_kids.replace('1',1,inplace=True)\n",
    "new_df.good_for_kids.replace('No',0,inplace=True)\n",
    "new_df.good_for_kids.replace('Yes',1,inplace=True)\n",
    "new_df.good_for_kids.unique()"
   ]
  },
  {
   "cell_type": "code",
   "execution_count": 287,
   "metadata": {},
   "outputs": [
    {
     "data": {
      "text/plain": [
       "array([-1,  1])"
      ]
     },
     "execution_count": 287,
     "metadata": {},
     "output_type": "execute_result"
    }
   ],
   "source": [
    "new_df.good_for_working.unique()\n",
    "new_df.good_for_working.replace('Yes',1,inplace=True)\n",
    "new_df.good_for_working.unique()"
   ]
  },
  {
   "cell_type": "code",
   "execution_count": 288,
   "metadata": {},
   "outputs": [
    {
     "data": {
      "text/plain": [
       "array([-1,  1,  0])"
      ]
     },
     "execution_count": 288,
     "metadata": {},
     "output_type": "execute_result"
    }
   ],
   "source": [
    "new_df.happy_hour.unique()\n",
    "\n",
    "new_df.happy_hour.replace('0',0,inplace=True)\n",
    "new_df.happy_hour.replace('1',1,inplace=True)\n",
    "new_df.happy_hour.replace('No',0,inplace=True)\n",
    "new_df.happy_hour.replace('Yes',1,inplace=True)\n",
    "new_df.happy_hour.unique()\n"
   ]
  },
  {
   "cell_type": "code",
   "execution_count": 289,
   "metadata": {},
   "outputs": [
    {
     "data": {
      "text/plain": [
       "array([ 1,  0, -1])"
      ]
     },
     "execution_count": 289,
     "metadata": {},
     "output_type": "execute_result"
    }
   ],
   "source": [
    "new_df.has_tv.unique()\n",
    "new_df.has_tv.replace('0',0,inplace=True)\n",
    "new_df.has_tv.replace('1',1,inplace=True)\n",
    "new_df.has_tv.replace('No',0,inplace=True)\n",
    "new_df.has_tv.replace('Yes',1,inplace=True)\n",
    "new_df.has_tv.unique()"
   ]
  },
  {
   "cell_type": "code",
   "execution_count": 290,
   "metadata": {},
   "outputs": [
    {
     "data": {
      "text/plain": [
       "array([ 0,  1, -1,  3,  2])"
      ]
     },
     "execution_count": 290,
     "metadata": {},
     "output_type": "execute_result"
    }
   ],
   "source": [
    "new_df.noise_level.unique()\n",
    "#Mapping : quiet=0,average=1, loud=2, very_loud=3\n",
    "new_df.noise_level.replace('Quiet',0,inplace=True)\n",
    "new_df.noise_level.replace('Average',1,inplace=True)\n",
    "new_df.noise_level.replace('Loud',2,inplace=True)\n",
    "new_df.noise_level.replace('Very Loud',3,inplace=True)\n",
    "new_df.noise_level.replace('0',0,inplace=True)\n",
    "new_df.noise_level.replace('1',1,inplace=True)\n",
    "new_df.noise_level.replace('2',2,inplace=True)\n",
    "new_df.noise_level.replace('3',3,inplace=True)\n",
    "new_df.noise_level.unique()"
   ]
  },
  {
   "cell_type": "code",
   "execution_count": 291,
   "metadata": {},
   "outputs": [
    {
     "data": {
      "text/plain": [
       "array([ 0,  1, -1])"
      ]
     },
     "execution_count": 291,
     "metadata": {},
     "output_type": "execute_result"
    }
   ],
   "source": [
    "new_df.outdoor_seating.unique()\n",
    "new_df.outdoor_seating.replace('0',0,inplace=True)\n",
    "new_df.outdoor_seating.replace('1',1,inplace=True)\n",
    "new_df.outdoor_seating.replace('No',0,inplace=True)\n",
    "new_df.outdoor_seating.replace('Yes',1,inplace=True)\n",
    "new_df.outdoor_seating.unique()\n"
   ]
  },
  {
   "cell_type": "code",
   "execution_count": 292,
   "metadata": {},
   "outputs": [
    {
     "data": {
      "text/plain": [
       "array([ 1, -1,  0])"
      ]
     },
     "execution_count": 292,
     "metadata": {},
     "output_type": "execute_result"
    }
   ],
   "source": [
    "new_df.restaurants_good_for_groups.unique()\n",
    "new_df.restaurants_good_for_groups.replace('0',0,inplace=True)\n",
    "new_df.restaurants_good_for_groups.replace('1',1,inplace=True)\n",
    "new_df.restaurants_good_for_groups.replace('No',0,inplace=True)\n",
    "new_df.restaurants_good_for_groups.replace('Yes',1,inplace=True)\n",
    "new_df.restaurants_good_for_groups.unique()"
   ]
  },
  {
   "cell_type": "code",
   "execution_count": 293,
   "metadata": {},
   "outputs": [
    {
     "data": {
      "text/plain": [
       "array([ 1,  0, -1])"
      ]
     },
     "execution_count": 293,
     "metadata": {},
     "output_type": "execute_result"
    }
   ],
   "source": [
    "new_df.restaurants_delivery.unique()\n",
    "new_df.restaurants_delivery.replace('0',0,inplace=True)\n",
    "new_df.restaurants_delivery.replace('1',1,inplace=True)\n",
    "new_df.restaurants_delivery.replace('No',0,inplace=True)\n",
    "new_df.restaurants_delivery.replace('Yes',1,inplace=True)\n",
    "new_df.restaurants_delivery.unique()"
   ]
  },
  {
   "cell_type": "code",
   "execution_count": 294,
   "metadata": {},
   "outputs": [
    {
     "data": {
      "text/plain": [
       "array([ 0, -1,  1])"
      ]
     },
     "execution_count": 294,
     "metadata": {},
     "output_type": "execute_result"
    }
   ],
   "source": [
    "new_df.restaurants_attire.unique()\n",
    "#Mapping : casual=0, dressy=1, formal=2\n",
    "new_df.restaurants_attire.replace('Casual',0,inplace=True)\n",
    "new_df.restaurants_attire.replace('0',0,inplace=True)\n",
    "new_df.restaurants_attire.replace('1',1,inplace=True)\n",
    "new_df.restaurants_attire.unique()"
   ]
  },
  {
   "cell_type": "code",
   "execution_count": 295,
   "metadata": {},
   "outputs": [
    {
     "data": {
      "text/plain": [
       "array([ 0,  1, -1])"
      ]
     },
     "execution_count": 295,
     "metadata": {},
     "output_type": "execute_result"
    }
   ],
   "source": [
    "new_df.restaurants_reservations.unique()\n",
    "new_df.restaurants_reservations.replace('0',0,inplace=True)\n",
    "new_df.restaurants_reservations.replace('1',1,inplace=True)\n",
    "new_df.restaurants_reservations.replace('No',0,inplace=True)\n",
    "new_df.restaurants_reservations.replace('Yes',1,inplace=True)\n",
    "new_df.restaurants_reservations.unique()"
   ]
  },
  {
   "cell_type": "code",
   "execution_count": 296,
   "metadata": {},
   "outputs": [
    {
     "data": {
      "text/plain": [
       "array([ 1, -1,  0])"
      ]
     },
     "execution_count": 296,
     "metadata": {},
     "output_type": "execute_result"
    }
   ],
   "source": [
    "new_df.restaurants_takeout.unique()\n",
    "new_df.restaurants_takeout.replace('0',0,inplace=True)\n",
    "new_df.restaurants_takeout.replace('1',1,inplace=True)\n",
    "new_df.restaurants_takeout.replace('No',0,inplace=True)\n",
    "new_df.restaurants_takeout.replace('Yes',1,inplace=True)\n",
    "new_df.restaurants_takeout.unique()"
   ]
  },
  {
   "cell_type": "code",
   "execution_count": 297,
   "metadata": {},
   "outputs": [
    {
     "data": {
      "text/plain": [
       "array([-1,  1,  0,  2])"
      ]
     },
     "execution_count": 297,
     "metadata": {},
     "output_type": "execute_result"
    }
   ],
   "source": [
    "new_df.smoking.unique()\n",
    "#Mapping : no=0, yes=1, outdoor=2\n",
    "new_df.smoking.replace('Yes',1,inplace=True)\n",
    "new_df.smoking.replace('0',0,inplace=True)\n",
    "new_df.smoking.replace('1',1,inplace=True)\n",
    "new_df.smoking.replace('2',2,inplace=True)\n",
    "new_df.smoking.unique()"
   ]
  },
  {
   "cell_type": "code",
   "execution_count": 298,
   "metadata": {},
   "outputs": [
    {
     "data": {
      "text/plain": [
       "array([ 1, -1,  0])"
      ]
     },
     "execution_count": 298,
     "metadata": {},
     "output_type": "execute_result"
    }
   ],
   "source": [
    "new_df.wheelchair_accessible.unique()\n",
    "new_df.wheelchair_accessible.replace('0',0,inplace=True)\n",
    "new_df.wheelchair_accessible.replace('1',1,inplace=True)\n",
    "new_df.wheelchair_accessible.replace('No',0,inplace=True)\n",
    "new_df.wheelchair_accessible.replace('Yes',1,inplace=True)\n",
    "new_df.wheelchair_accessible.unique()"
   ]
  },
  {
   "cell_type": "code",
   "execution_count": 299,
   "metadata": {},
   "outputs": [
    {
     "data": {
      "text/plain": [
       "array([ 0,  1, -1])"
      ]
     },
     "execution_count": 299,
     "metadata": {},
     "output_type": "execute_result"
    }
   ],
   "source": [
    "new_df.wifi.unique()\n",
    "#Mapping : no=0,free=1, paid=2\n",
    "new_df.wifi.replace('No',0,inplace=True)\n",
    "new_df.wifi.replace('Free',1,inplace=True)\n",
    "new_df.wifi.replace('0',0,inplace=True)\n",
    "new_df.wifi.replace('1',1,inplace=True)\n",
    "new_df.wifi.unique()"
   ]
  },
  {
   "cell_type": "code",
   "execution_count": 300,
   "metadata": {},
   "outputs": [],
   "source": [
    "new_df.to_csv('final_lasvegas_dataset_v3.csv',',',index=False)"
   ]
  },
  {
   "cell_type": "code",
   "execution_count": null,
   "metadata": {},
   "outputs": [],
   "source": []
  }
 ],
 "metadata": {
  "kernelspec": {
   "display_name": "Python 3",
   "language": "python",
   "name": "python3"
  },
  "language_info": {
   "codemirror_mode": {
    "name": "ipython",
    "version": 3
   },
   "file_extension": ".py",
   "mimetype": "text/x-python",
   "name": "python",
   "nbconvert_exporter": "python",
   "pygments_lexer": "ipython3",
   "version": "3.5.2"
  }
 },
 "nbformat": 4,
 "nbformat_minor": 2
}
